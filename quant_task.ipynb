{
 "cells": [
  {
   "cell_type": "markdown",
   "metadata": {},
   "source": [
    "### Описание данных  \n",
    "\n",
    "Файл содержит [биржевой стакан](https://en.wikipedia.org/wiki/Order_book_(trading)) для некоторого актива. Стакан состоит из ценовых уровней и объема заявок на каждом уровне. Глубина стакана - 5.  \n",
    "\n",
    "Описание колонок:  \n",
    "ask_rate - цены заявок на продажу  \n",
    "ask_amount - объёмы заявок на продажу  \n",
    "bid_rate - цены заявок на покупку  \n",
    "bid_amount - объёмы заявок на покупку\n",
    "midprice - цена актива  \n",
    "signal - сигнал, полученный от модели, которая оценивает изменение цены \n",
    "\n",
    "#### Цена актива\n",
    "На каждый тик определим цену актива. Возьмём среднее между наименьшим ask_rate (askbest) и наибольшим bid_rate (bidbest) в момент времени t:  \n",
    "$$ midprice(t) = \\frac{(askbest(t) + bidbest(t))}{2} $$  \n",
    "\n",
    "С помощью сигнала от модели определим прогноз цены в будущем:  \n",
    "$$midprice(t + 1) = midprice(t) + signal(t)$$"
   ]
  },
  {
   "cell_type": "markdown",
   "metadata": {},
   "source": [
    "### Задачa\n",
    "Написать свою торговую стратегию, которая будет опираться на сигнал модели для принятия решения.  \n",
    "#### Ограничения: \n",
    "- Максимальная позиция не должна превышать 1\n",
    "- Нельзя самостоятельно вносить изменения в бэктест\n",
    "- Стратегия должна содержать текстовое описание  \n",
    "\n",
    "#### Критерии оценки стратегии:\n",
    "- Pnl после комиссии \n",
    "- Количество сделок > 50"
   ]
  },
  {
   "cell_type": "markdown",
   "metadata": {},
   "source": [
    "### Считывание данных"
   ]
  },
  {
   "cell_type": "code",
   "execution_count": 1,
   "metadata": {},
   "outputs": [],
   "source": [
    "# !pip3 install fastparquet"
   ]
  },
  {
   "cell_type": "code",
   "execution_count": 1,
   "metadata": {},
   "outputs": [],
   "source": [
    "import pandas as pd\n",
    "import numpy as np\n",
    "import matplotlib.pyplot as plt\n",
    "from backtest import *"
   ]
  },
  {
   "cell_type": "code",
   "execution_count": 2,
   "metadata": {},
   "outputs": [],
   "source": [
    "backtest_df = pd.read_parquet('data.parquet')"
   ]
  },
  {
   "cell_type": "code",
   "execution_count": 3,
   "metadata": {},
   "outputs": [
    {
     "data": {
      "text/html": [
       "<div>\n",
       "<style scoped>\n",
       "    .dataframe tbody tr th:only-of-type {\n",
       "        vertical-align: middle;\n",
       "    }\n",
       "\n",
       "    .dataframe tbody tr th {\n",
       "        vertical-align: top;\n",
       "    }\n",
       "\n",
       "    .dataframe thead th {\n",
       "        text-align: right;\n",
       "    }\n",
       "</style>\n",
       "<table border=\"1\" class=\"dataframe\">\n",
       "  <thead>\n",
       "    <tr style=\"text-align: right;\">\n",
       "      <th></th>\n",
       "      <th>ask_rate</th>\n",
       "      <th>ask_amount</th>\n",
       "      <th>bid_rate</th>\n",
       "      <th>bid_amount</th>\n",
       "      <th>midprice</th>\n",
       "      <th>target</th>\n",
       "      <th>signal</th>\n",
       "    </tr>\n",
       "  </thead>\n",
       "  <tbody>\n",
       "    <tr>\n",
       "      <th>2019-10-09 09:30:03.365</th>\n",
       "      <td>[336.42, 336.43, 336.49, 336.54, 336.6]</td>\n",
       "      <td>[3.41067, 19.41908, 8.91917, 12.0, 19.96468]</td>\n",
       "      <td>[336.22, 336.19, 336.17, 336.12, 333.1]</td>\n",
       "      <td>[11.51755, 1.48644, 27.35777, 74.1057, 5.55105]</td>\n",
       "      <td>336.32</td>\n",
       "      <td>0.015</td>\n",
       "      <td>-0.004417</td>\n",
       "    </tr>\n",
       "    <tr>\n",
       "      <th>2019-10-09 09:30:03.465</th>\n",
       "      <td>[336.42, 336.43, 336.49, 336.51, 336.54]</td>\n",
       "      <td>[3.41067, 27.97455, 8.91917, 5.99121, 12.0]</td>\n",
       "      <td>[336.22, 336.21, 336.19, 336.17, 336.16]</td>\n",
       "      <td>[11.51755, 125.39419, 1.48644, 27.35777, 18.9743]</td>\n",
       "      <td>336.32</td>\n",
       "      <td>0.015</td>\n",
       "      <td>-0.004417</td>\n",
       "    </tr>\n",
       "  </tbody>\n",
       "</table>\n",
       "</div>"
      ],
      "text/plain": [
       "                                                         ask_rate  \\\n",
       "2019-10-09 09:30:03.365   [336.42, 336.43, 336.49, 336.54, 336.6]   \n",
       "2019-10-09 09:30:03.465  [336.42, 336.43, 336.49, 336.51, 336.54]   \n",
       "\n",
       "                                                           ask_amount  \\\n",
       "2019-10-09 09:30:03.365  [3.41067, 19.41908, 8.91917, 12.0, 19.96468]   \n",
       "2019-10-09 09:30:03.465   [3.41067, 27.97455, 8.91917, 5.99121, 12.0]   \n",
       "\n",
       "                                                         bid_rate  \\\n",
       "2019-10-09 09:30:03.365   [336.22, 336.19, 336.17, 336.12, 333.1]   \n",
       "2019-10-09 09:30:03.465  [336.22, 336.21, 336.19, 336.17, 336.16]   \n",
       "\n",
       "                                                                bid_amount  \\\n",
       "2019-10-09 09:30:03.365    [11.51755, 1.48644, 27.35777, 74.1057, 5.55105]   \n",
       "2019-10-09 09:30:03.465  [11.51755, 125.39419, 1.48644, 27.35777, 18.9743]   \n",
       "\n",
       "                         midprice  target    signal  \n",
       "2019-10-09 09:30:03.365    336.32   0.015 -0.004417  \n",
       "2019-10-09 09:30:03.465    336.32   0.015 -0.004417  "
      ]
     },
     "execution_count": 3,
     "metadata": {},
     "output_type": "execute_result"
    }
   ],
   "source": [
    "backtest_df.head(2)"
   ]
  },
  {
   "cell_type": "code",
   "execution_count": 4,
   "metadata": {},
   "outputs": [
    {
     "data": {
      "text/plain": [
       "(7361603, 7)"
      ]
     },
     "execution_count": 4,
     "metadata": {},
     "output_type": "execute_result"
    }
   ],
   "source": [
    "backtest_df.shape"
   ]
  },
  {
   "cell_type": "markdown",
   "metadata": {},
   "source": [
    "### Пример стратегии"
   ]
  },
  {
   "cell_type": "markdown",
   "metadata": {},
   "source": [
    "#### Принцип работы стратегии  \n",
    "Стратегия - это некоторый набор условий, по которому в каждый момент времени принимается решение, нужно ли сейчас покупать, продавать, либо ничего не делать.  \n",
    "Результат работы стратегии - необходимый объем сделки (```order_size```). Если значение объема положительное - совершается покупка (buy). Если отрицательное - продажа (sell). Если 0 - ничего не происходит (hold).  \n",
    "\n",
    "```order_size = 1``` — сделать покупку объемом 1  \n",
    "```order_size = -1``` — сделать продажу объемом 1  \n",
    "\n",
    "Совершение сделки на покупку изменяет текущую позицию (```current_position```) в положительную сторону, на продажу - в отрицательную.  \n",
    "Текущая позиция отражает кумулятивную сумму купленных и проданных объемов.  \n",
    "Пример изменения текущей позиции:  \n",
    "\n",
    "```1. order_size = 0 -> current_position = 0```  \n",
    "```2. order_size = 1 -> current_position = 1  # открытие позиции```  \n",
    "```3. order_size = -1 -> current_position = 0  # закрытие позиции```  \n",
    "  \n",
    "Максимальная позиция (```max_position```) - наибольшее абсолютное значение текущей позиции. Если текущая позиция равна максимальной, нельзя совершать сделки в ту же сторону.  \n",
    "При ```max_position = 1```:   \n",
    "\n",
    "```1. order_size = 0 -> current_position = 0```  \n",
    "```2. order_size = -1 -> current_position = -1```  \n",
    "```3. order_size = -1 -> current_position = -1  # нельзя превысить max_position```   \n",
    "```4. order_size = 1 -> current_position = 0```   "
   ]
  },
  {
   "cell_type": "code",
   "execution_count": 6,
   "metadata": {},
   "outputs": [],
   "source": [
    "def basic_strategy(strategy_state, orderbook_state, trade_size, storage, max_position=1):\n",
    "    '''\n",
    "    Описание стратегии\n",
    "    --------------\n",
    "    Совершает покупку, если сигнал положительный и текущая абсолютная позиция меньше максимальной.\n",
    "    Совершает продажу, если сигнал отрицательный и текущая абсолютная позиция меньше максимальной.\n",
    "    \n",
    "    Параметры\n",
    "    --------------\n",
    "    strategy_state : list\n",
    "        Массив, содержащий index (номер тика), current_position (текущую позицию)\n",
    "        и signal (сигнал модели для данного тика).\n",
    "    orderbook_state : list\n",
    "        Массив, содержащий информацию о стакане для данного тика.\n",
    "    trade_size : float\n",
    "        Объем одной сделки.\n",
    "    storage : dict\n",
    "        Словарь для сохранения информации с прошлых тиков.\n",
    "    max_position : int\n",
    "        Максимальный объем открытой позиции в одну сторону. Должен быть равен 1.\n",
    "    \n",
    "    Результат\n",
    "    --------------\n",
    "    order_size : float\n",
    "        Стратегия возвращает объем сделки, где знак обозначает сторону сделки: \n",
    "        положительный для покупки и отрицательный для продажи\n",
    "    '''\n",
    "    index, current_position, signal = strategy_state\n",
    "    ask_rate, ask_amount, bid_rate, bid_amount = orderbook_state\n",
    "    \n",
    "    # prev_signal = storage.get('prev_signal', 0)  # пример использования storage\n",
    "    if signal > 0:  # покупка\n",
    "        order_size = min(trade_size, max_position - current_position)  # определение объема сделки\n",
    "    elif signal < 0:  # продажа\n",
    "        order_size = -min(trade_size, max_position + current_position)  # определение объема сделки\n",
    "    else:\n",
    "        order_size = 0\n",
    "    # storage['prev_signal'] = signal  # пример использования storage\n",
    "    \n",
    "    return order_size"
   ]
  },
  {
   "cell_type": "code",
   "execution_count": 7,
   "metadata": {},
   "outputs": [],
   "source": [
    "strategy_params = {}\n",
    "strategy_params['trade_size'] = 1  # максимальное значение = 1\n",
    "strategy_params['storage'] = {}  "
   ]
  },
  {
   "cell_type": "markdown",
   "metadata": {},
   "source": [
    "### Бэктест\n",
    "Для проверки качества стратегии используются исторические данные, на которых с помощью бэктеста симулируется работа стратегии"
   ]
  },
  {
   "cell_type": "code",
   "execution_count": null,
   "metadata": {},
   "outputs": [
    {
     "name": "stdout",
     "output_type": "stream",
     "text": [
      "{'pnl': -7758.215660218272, 'pnl_after_fee': -99987.76854768979, 'actions': 2524253}\n"
     ]
    }
   ],
   "source": [
    "%%time\n",
    "summary, result = backtest(backtest_df, basic_strategy, strategy_params, viz=True)"
   ]
  },
  {
   "cell_type": "markdown",
   "metadata": {},
   "source": [
    "Бэктест возвращает результат работы стратегии.  \n",
    "```summary``` содержит итоговую информацию:\n",
    "- pnl : Profits and Losses (PnL, P&L) - сумма всех доходов и убытков по закрытым позициям. \n",
    "- **pnl_after_fee : Pnl после комиссии. За каждую сделку биржа берёт комиссию. В данном случае она составляет 0.0001 от цены актива в момент совершения сделки. Это ключевой показатель при анализе эффективности стратегии.**  \n",
    "- actions : Количество сделок, совершенное стратегией  \n",
    "\n",
    "Выводы по этой стратегии:  \n",
    "Она слишком чувствительна к сигналу, поэтому совершает большое количество сделок, из которых почти все убыточны. "
   ]
  },
  {
   "cell_type": "markdown",
   "metadata": {},
   "source": [
    "```result``` - исходный датафрейм, к которому добавлены данные по стратегии в каждый момент времени. Может использоваться для детального анализа работы стратегии"
   ]
  },
  {
   "cell_type": "code",
   "execution_count": null,
   "metadata": {},
   "outputs": [],
   "source": [
    "summary"
   ]
  },
  {
   "cell_type": "code",
   "execution_count": null,
   "metadata": {},
   "outputs": [],
   "source": [
    "result.head(2)"
   ]
  },
  {
   "cell_type": "code",
   "execution_count": null,
   "metadata": {},
   "outputs": [],
   "source": []
  }
 ],
 "metadata": {
  "kernelspec": {
   "display_name": "Python 3 (ipykernel)",
   "language": "python",
   "name": "python3"
  },
  "language_info": {
   "codemirror_mode": {
    "name": "ipython",
    "version": 3
   },
   "file_extension": ".py",
   "mimetype": "text/x-python",
   "name": "python",
   "nbconvert_exporter": "python",
   "pygments_lexer": "ipython3",
   "version": "3.10.6"
  }
 },
 "nbformat": 4,
 "nbformat_minor": 4
}
